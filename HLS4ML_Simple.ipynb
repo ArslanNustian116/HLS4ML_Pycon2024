{
  "nbformat": 4,
  "nbformat_minor": 0,
  "metadata": {
    "colab": {
      "provenance": [],
      "authorship_tag": "ABX9TyOHw3LB1fZVSvd/kgG/pN7z",
      "include_colab_link": true
    },
    "kernelspec": {
      "name": "python3",
      "display_name": "Python 3"
    },
    "language_info": {
      "name": "python"
    }
  },
  "cells": [
    {
      "cell_type": "markdown",
      "metadata": {
        "id": "view-in-github",
        "colab_type": "text"
      },
      "source": [
        "<a href=\"https://colab.research.google.com/github/ArslanNustian116/HLS4ML_Pycon2024/blob/main/HLS4ML_Simple.ipynb\" target=\"_parent\"><img src=\"https://colab.research.google.com/assets/colab-badge.svg\" alt=\"Open In Colab\"/></a>"
      ]
    },
    {
      "cell_type": "code",
      "source": [
        "!pip install hls4ml"
      ],
      "metadata": {
        "colab": {
          "base_uri": "https://localhost:8080/"
        },
        "id": "tJdFVA-4t-Wn",
        "outputId": "68abf2f4-09ec-44e8-84ef-514f9f27ce95"
      },
      "execution_count": null,
      "outputs": [
        {
          "output_type": "stream",
          "name": "stdout",
          "text": [
            "Requirement already satisfied: hls4ml in /usr/local/lib/python3.11/dist-packages (1.0.0)\n",
            "Requirement already satisfied: calmjs.parse in /usr/local/lib/python3.11/dist-packages (from hls4ml) (1.3.2)\n",
            "Requirement already satisfied: h5py in /usr/local/lib/python3.11/dist-packages (from hls4ml) (3.12.1)\n",
            "Requirement already satisfied: numpy in /usr/local/lib/python3.11/dist-packages (from hls4ml) (1.26.4)\n",
            "Requirement already satisfied: onnx>=1.4.0 in /usr/local/lib/python3.11/dist-packages (from hls4ml) (1.17.0)\n",
            "Requirement already satisfied: pydigitalwavetools==1.1 in /usr/local/lib/python3.11/dist-packages (from hls4ml) (1.1)\n",
            "Requirement already satisfied: pyparsing in /usr/local/lib/python3.11/dist-packages (from hls4ml) (3.2.1)\n",
            "Requirement already satisfied: pyyaml in /usr/local/lib/python3.11/dist-packages (from hls4ml) (6.0.2)\n",
            "Requirement already satisfied: tabulate in /usr/local/lib/python3.11/dist-packages (from hls4ml) (0.9.0)\n",
            "Requirement already satisfied: tensorflow<=2.14.1,>=2.8.0 in /usr/local/lib/python3.11/dist-packages (from hls4ml) (2.14.1)\n",
            "Requirement already satisfied: tensorflow-model-optimization<=0.7.5 in /usr/local/lib/python3.11/dist-packages (from hls4ml) (0.7.5)\n",
            "Requirement already satisfied: protobuf>=3.20.2 in /usr/local/lib/python3.11/dist-packages (from onnx>=1.4.0->hls4ml) (4.25.5)\n",
            "Requirement already satisfied: absl-py>=1.0.0 in /usr/local/lib/python3.11/dist-packages (from tensorflow<=2.14.1,>=2.8.0->hls4ml) (1.4.0)\n",
            "Requirement already satisfied: astunparse>=1.6.0 in /usr/local/lib/python3.11/dist-packages (from tensorflow<=2.14.1,>=2.8.0->hls4ml) (1.6.3)\n",
            "Requirement already satisfied: flatbuffers>=23.5.26 in /usr/local/lib/python3.11/dist-packages (from tensorflow<=2.14.1,>=2.8.0->hls4ml) (24.12.23)\n",
            "Requirement already satisfied: gast!=0.5.0,!=0.5.1,!=0.5.2,>=0.2.1 in /usr/local/lib/python3.11/dist-packages (from tensorflow<=2.14.1,>=2.8.0->hls4ml) (0.6.0)\n",
            "Requirement already satisfied: google-pasta>=0.1.1 in /usr/local/lib/python3.11/dist-packages (from tensorflow<=2.14.1,>=2.8.0->hls4ml) (0.2.0)\n",
            "Requirement already satisfied: libclang>=13.0.0 in /usr/local/lib/python3.11/dist-packages (from tensorflow<=2.14.1,>=2.8.0->hls4ml) (18.1.1)\n",
            "Requirement already satisfied: ml-dtypes==0.2.0 in /usr/local/lib/python3.11/dist-packages (from tensorflow<=2.14.1,>=2.8.0->hls4ml) (0.2.0)\n",
            "Requirement already satisfied: opt-einsum>=2.3.2 in /usr/local/lib/python3.11/dist-packages (from tensorflow<=2.14.1,>=2.8.0->hls4ml) (3.4.0)\n",
            "Requirement already satisfied: packaging in /usr/local/lib/python3.11/dist-packages (from tensorflow<=2.14.1,>=2.8.0->hls4ml) (24.2)\n",
            "Requirement already satisfied: setuptools in /usr/local/lib/python3.11/dist-packages (from tensorflow<=2.14.1,>=2.8.0->hls4ml) (75.1.0)\n",
            "Requirement already satisfied: six>=1.12.0 in /usr/local/lib/python3.11/dist-packages (from tensorflow<=2.14.1,>=2.8.0->hls4ml) (1.17.0)\n",
            "Requirement already satisfied: termcolor>=1.1.0 in /usr/local/lib/python3.11/dist-packages (from tensorflow<=2.14.1,>=2.8.0->hls4ml) (2.5.0)\n",
            "Requirement already satisfied: typing-extensions>=3.6.6 in /usr/local/lib/python3.11/dist-packages (from tensorflow<=2.14.1,>=2.8.0->hls4ml) (4.12.2)\n",
            "Requirement already satisfied: wrapt<1.15,>=1.11.0 in /usr/local/lib/python3.11/dist-packages (from tensorflow<=2.14.1,>=2.8.0->hls4ml) (1.14.1)\n",
            "Requirement already satisfied: tensorflow-io-gcs-filesystem>=0.23.1 in /usr/local/lib/python3.11/dist-packages (from tensorflow<=2.14.1,>=2.8.0->hls4ml) (0.37.1)\n",
            "Requirement already satisfied: grpcio<2.0,>=1.24.3 in /usr/local/lib/python3.11/dist-packages (from tensorflow<=2.14.1,>=2.8.0->hls4ml) (1.69.0)\n",
            "Requirement already satisfied: tensorboard<2.15,>=2.14 in /usr/local/lib/python3.11/dist-packages (from tensorflow<=2.14.1,>=2.8.0->hls4ml) (2.14.1)\n",
            "Requirement already satisfied: tensorflow-estimator<2.15,>=2.14.0 in /usr/local/lib/python3.11/dist-packages (from tensorflow<=2.14.1,>=2.8.0->hls4ml) (2.14.0)\n",
            "Requirement already satisfied: keras<2.15,>=2.14.0 in /usr/local/lib/python3.11/dist-packages (from tensorflow<=2.14.1,>=2.8.0->hls4ml) (2.14.0)\n",
            "Requirement already satisfied: dm-tree~=0.1.1 in /usr/local/lib/python3.11/dist-packages (from tensorflow-model-optimization<=0.7.5->hls4ml) (0.1.8)\n",
            "Requirement already satisfied: ply>=3.6 in /usr/local/lib/python3.11/dist-packages (from calmjs.parse->hls4ml) (3.11)\n",
            "Requirement already satisfied: wheel<1.0,>=0.23.0 in /usr/local/lib/python3.11/dist-packages (from astunparse>=1.6.0->tensorflow<=2.14.1,>=2.8.0->hls4ml) (0.45.1)\n",
            "Requirement already satisfied: google-auth<3,>=1.6.3 in /usr/local/lib/python3.11/dist-packages (from tensorboard<2.15,>=2.14->tensorflow<=2.14.1,>=2.8.0->hls4ml) (2.27.0)\n",
            "Requirement already satisfied: google-auth-oauthlib<1.1,>=0.5 in /usr/local/lib/python3.11/dist-packages (from tensorboard<2.15,>=2.14->tensorflow<=2.14.1,>=2.8.0->hls4ml) (1.0.0)\n",
            "Requirement already satisfied: markdown>=2.6.8 in /usr/local/lib/python3.11/dist-packages (from tensorboard<2.15,>=2.14->tensorflow<=2.14.1,>=2.8.0->hls4ml) (3.7)\n",
            "Requirement already satisfied: requests<3,>=2.21.0 in /usr/local/lib/python3.11/dist-packages (from tensorboard<2.15,>=2.14->tensorflow<=2.14.1,>=2.8.0->hls4ml) (2.32.3)\n",
            "Requirement already satisfied: tensorboard-data-server<0.8.0,>=0.7.0 in /usr/local/lib/python3.11/dist-packages (from tensorboard<2.15,>=2.14->tensorflow<=2.14.1,>=2.8.0->hls4ml) (0.7.2)\n",
            "Requirement already satisfied: werkzeug>=1.0.1 in /usr/local/lib/python3.11/dist-packages (from tensorboard<2.15,>=2.14->tensorflow<=2.14.1,>=2.8.0->hls4ml) (3.1.3)\n",
            "Requirement already satisfied: cachetools<6.0,>=2.0.0 in /usr/local/lib/python3.11/dist-packages (from google-auth<3,>=1.6.3->tensorboard<2.15,>=2.14->tensorflow<=2.14.1,>=2.8.0->hls4ml) (5.5.0)\n",
            "Requirement already satisfied: pyasn1-modules>=0.2.1 in /usr/local/lib/python3.11/dist-packages (from google-auth<3,>=1.6.3->tensorboard<2.15,>=2.14->tensorflow<=2.14.1,>=2.8.0->hls4ml) (0.4.1)\n",
            "Requirement already satisfied: rsa<5,>=3.1.4 in /usr/local/lib/python3.11/dist-packages (from google-auth<3,>=1.6.3->tensorboard<2.15,>=2.14->tensorflow<=2.14.1,>=2.8.0->hls4ml) (4.9)\n",
            "Requirement already satisfied: requests-oauthlib>=0.7.0 in /usr/local/lib/python3.11/dist-packages (from google-auth-oauthlib<1.1,>=0.5->tensorboard<2.15,>=2.14->tensorflow<=2.14.1,>=2.8.0->hls4ml) (1.3.1)\n",
            "Requirement already satisfied: charset-normalizer<4,>=2 in /usr/local/lib/python3.11/dist-packages (from requests<3,>=2.21.0->tensorboard<2.15,>=2.14->tensorflow<=2.14.1,>=2.8.0->hls4ml) (3.4.1)\n",
            "Requirement already satisfied: idna<4,>=2.5 in /usr/local/lib/python3.11/dist-packages (from requests<3,>=2.21.0->tensorboard<2.15,>=2.14->tensorflow<=2.14.1,>=2.8.0->hls4ml) (3.10)\n",
            "Requirement already satisfied: urllib3<3,>=1.21.1 in /usr/local/lib/python3.11/dist-packages (from requests<3,>=2.21.0->tensorboard<2.15,>=2.14->tensorflow<=2.14.1,>=2.8.0->hls4ml) (2.3.0)\n",
            "Requirement already satisfied: certifi>=2017.4.17 in /usr/local/lib/python3.11/dist-packages (from requests<3,>=2.21.0->tensorboard<2.15,>=2.14->tensorflow<=2.14.1,>=2.8.0->hls4ml) (2024.12.14)\n",
            "Requirement already satisfied: MarkupSafe>=2.1.1 in /usr/local/lib/python3.11/dist-packages (from werkzeug>=1.0.1->tensorboard<2.15,>=2.14->tensorflow<=2.14.1,>=2.8.0->hls4ml) (3.0.2)\n",
            "Requirement already satisfied: pyasn1<0.7.0,>=0.4.6 in /usr/local/lib/python3.11/dist-packages (from pyasn1-modules>=0.2.1->google-auth<3,>=1.6.3->tensorboard<2.15,>=2.14->tensorflow<=2.14.1,>=2.8.0->hls4ml) (0.6.1)\n",
            "Requirement already satisfied: oauthlib>=3.0.0 in /usr/local/lib/python3.11/dist-packages (from requests-oauthlib>=0.7.0->google-auth-oauthlib<1.1,>=0.5->tensorboard<2.15,>=2.14->tensorflow<=2.14.1,>=2.8.0->hls4ml) (3.2.2)\n"
          ]
        }
      ]
    },
    {
      "cell_type": "code",
      "source": [
        "import shutil  # For creating the zip file"
      ],
      "metadata": {
        "id": "YNqdhB-b3WTq"
      },
      "execution_count": null,
      "outputs": []
    },
    {
      "cell_type": "code",
      "source": [
        "import tensorflow as tf\n",
        "import numpy as np\n",
        "import hls4ml\n",
        "import shutil  # For creating the zip file\n",
        "from google.colab import files  # For downloading files in Colab\n",
        "import os  # To check if the output directory exists\n",
        "\n",
        "# Generate random training and testing data\n",
        "train_x = np.random.rand(100000, 10)\n",
        "train_y = np.random.randint(0, 2, size=(100000, 1))  # Binary classification\n",
        "\n",
        "test_x = np.random.rand(1000, 10)\n",
        "test_y = np.random.randint(0, 2, size=(1000, 1))\n",
        "\n",
        "# Define a simple neural network model with supported layers\n",
        "model = tf.keras.Sequential([\n",
        "    tf.keras.layers.Dense(64, activation='relu', input_shape=(10,)),  # Input layer\n",
        "    tf.keras.layers.Dense(32, activation='relu'),                    # Hidden layer\n",
        "    tf.keras.layers.Dense(1, activation='sigmoid')                   # Output layer\n",
        "])\n",
        "\n",
        "# Compile and train the model\n",
        "model.compile(optimizer='adam', loss='binary_crossentropy', metrics=['accuracy'])\n",
        "model.fit(train_x, train_y, epochs=5, batch_size=32, verbose=1)\n",
        "\n",
        "# Generate HLS configuration from the Keras model\n",
        "config = hls4ml.utils.config_from_keras_model(model, granularity='model', backend='Vitis')\n",
        "\n",
        "# Print the configuration directly as a dictionary\n",
        "print(\"-----------------------------------\")\n",
        "print(\"HLS Configuration\")\n",
        "print(config)\n",
        "print(\"-----------------------------------\")\n",
        "\n",
        "# Define output directory path for the HLS model\n",
        "output_dir = '/content/model_1/hls4ml_prj'  # Make sure it's accessible in Colab environment\n",
        "\n",
        "# Convert the Keras model to an HLS4ML model\n",
        "hls_model = hls4ml.converters.convert_from_keras_model(\n",
        "    model,\n",
        "    hls_config=config,\n",
        "    backend='Vitis',\n",
        "    output_dir=output_dir,\n",
        "    part='xcu250-figd2104-2L-e'\n",
        ")\n",
        "\n",
        "# Check if the directory exists and has the expected content\n",
        "if os.path.exists(output_dir):\n",
        "    print(f\"Output directory {output_dir} exists.\")\n",
        "    print(f\"Contents of the output directory: {os.listdir(output_dir)}\")\n",
        "else:\n",
        "    print(f\"Error: The directory {output_dir} does not exist.\")\n",
        "\n",
        "# Build the HLS model (optional, may take time depending on the setup)\n",
        "hls_model.compile()\n",
        "print(\"HLS model compilation complete.\")\n",
        "\n",
        "# Check if output_dir exists and contains files before zipping\n",
        "if os.path.exists(output_dir) and os.listdir(output_dir):\n",
        "    # Compress the HLS project directory into a zip file\n",
        "    zip_file = '/content/model_1_hls4ml_prj.zip'  # Specify full path for saving the zip file\n",
        "    shutil.make_archive(base_name='/content/model_1_hls4ml_prj', format='zip', root_dir=output_dir)\n",
        "    print(f\"HLS project zipped as: {zip_file}\")\n",
        "\n",
        "    # Provide the zip file for download in Colab\n",
        "    files.download(zip_file)\n",
        "else:\n",
        "    print(f\"Error: The directory {output_dir} is empty or does not exist.\")\n"
      ],
      "metadata": {
        "colab": {
          "base_uri": "https://localhost:8080/",
          "height": 634
        },
        "id": "2dQm-TIU43XL",
        "outputId": "fd823c37-e146-489d-80c6-6c3fd428072d"
      },
      "execution_count": null,
      "outputs": [
        {
          "output_type": "stream",
          "name": "stdout",
          "text": [
            "Epoch 1/5\n",
            "3125/3125 [==============================] - 7s 2ms/step - loss: 0.6935 - accuracy: 0.5011\n",
            "Epoch 2/5\n",
            "3125/3125 [==============================] - 6s 2ms/step - loss: 0.6932 - accuracy: 0.4994\n",
            "Epoch 3/5\n",
            "3125/3125 [==============================] - 5s 2ms/step - loss: 0.6932 - accuracy: 0.5015\n",
            "Epoch 4/5\n",
            "3125/3125 [==============================] - 7s 2ms/step - loss: 0.6932 - accuracy: 0.5021\n",
            "Epoch 5/5\n",
            "3125/3125 [==============================] - 5s 2ms/step - loss: 0.6932 - accuracy: 0.5017\n",
            "Interpreting Sequential\n",
            "Topology:\n",
            "Layer name: dense_3_input, layer type: InputLayer, input shapes: [[None, 10]], output shape: [None, 10]\n",
            "Layer name: dense_3, layer type: Dense, input shapes: [[None, 10]], output shape: [None, 64]\n",
            "Layer name: dense_4, layer type: Dense, input shapes: [[None, 64]], output shape: [None, 32]\n",
            "Layer name: dense_5, layer type: Dense, input shapes: [[None, 32]], output shape: [None, 1]\n",
            "-----------------------------------\n",
            "HLS Configuration\n",
            "{'Model': {'Precision': {'default': 'fixed<16,6>'}, 'ReuseFactor': 1, 'Strategy': 'Latency', 'BramFactor': 1000000000, 'TraceOutput': False}}\n",
            "-----------------------------------\n",
            "Interpreting Sequential\n",
            "Topology:\n",
            "Layer name: dense_3_input, layer type: InputLayer, input shapes: [[None, 10]], output shape: [None, 10]\n",
            "Layer name: dense_3, layer type: Dense, input shapes: [[None, 10]], output shape: [None, 64]\n",
            "Layer name: dense_4, layer type: Dense, input shapes: [[None, 64]], output shape: [None, 32]\n",
            "Layer name: dense_5, layer type: Dense, input shapes: [[None, 32]], output shape: [None, 1]\n",
            "Creating HLS model\n",
            "Output directory /content/model_1/hls4ml_prj exists.\n",
            "Contents of the output directory: ['tb_data', 'myproject_bridge.cpp', 'keras_model.keras', 'vivado_synth.tcl', 'firmware', 'build_prj.tcl', 'project.tcl', 'build_lib.sh', 'hls4ml_config.yml', 'myproject_test.cpp']\n",
            "Writing HLS project\n",
            "Done\n",
            "HLS model compilation complete.\n",
            "HLS project zipped as: /content/model_1_hls4ml_prj.zip\n"
          ]
        },
        {
          "output_type": "display_data",
          "data": {
            "text/plain": [
              "<IPython.core.display.Javascript object>"
            ],
            "application/javascript": [
              "\n",
              "    async function download(id, filename, size) {\n",
              "      if (!google.colab.kernel.accessAllowed) {\n",
              "        return;\n",
              "      }\n",
              "      const div = document.createElement('div');\n",
              "      const label = document.createElement('label');\n",
              "      label.textContent = `Downloading \"${filename}\": `;\n",
              "      div.appendChild(label);\n",
              "      const progress = document.createElement('progress');\n",
              "      progress.max = size;\n",
              "      div.appendChild(progress);\n",
              "      document.body.appendChild(div);\n",
              "\n",
              "      const buffers = [];\n",
              "      let downloaded = 0;\n",
              "\n",
              "      const channel = await google.colab.kernel.comms.open(id);\n",
              "      // Send a message to notify the kernel that we're ready.\n",
              "      channel.send({})\n",
              "\n",
              "      for await (const message of channel.messages) {\n",
              "        // Send a message to notify the kernel that we're ready.\n",
              "        channel.send({})\n",
              "        if (message.buffers) {\n",
              "          for (const buffer of message.buffers) {\n",
              "            buffers.push(buffer);\n",
              "            downloaded += buffer.byteLength;\n",
              "            progress.value = downloaded;\n",
              "          }\n",
              "        }\n",
              "      }\n",
              "      const blob = new Blob(buffers, {type: 'application/binary'});\n",
              "      const a = document.createElement('a');\n",
              "      a.href = window.URL.createObjectURL(blob);\n",
              "      a.download = filename;\n",
              "      div.appendChild(a);\n",
              "      a.click();\n",
              "      div.remove();\n",
              "    }\n",
              "  "
            ]
          },
          "metadata": {}
        },
        {
          "output_type": "display_data",
          "data": {
            "text/plain": [
              "<IPython.core.display.Javascript object>"
            ],
            "application/javascript": [
              "download(\"download_64c8cc51-7a7e-4ff4-b579-251aa00a694f\", \"model_1_hls4ml_prj.zip\", 288952)"
            ]
          },
          "metadata": {}
        }
      ]
    }
  ]
}